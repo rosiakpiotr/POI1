{
 "cells": [
  {
   "cell_type": "code",
   "execution_count": 1,
   "metadata": {},
   "outputs": [],
   "source": [
    "import numpy as np\n",
    "import pathlib\n",
    "from PIL import Image\n",
    "from skimage.io import imread\n",
    "\n",
    "np.set_printoptions(linewidth=120, precision=3, suppress=True)"
   ]
  },
  {
   "cell_type": "code",
   "execution_count": 2,
   "metadata": {},
   "outputs": [],
   "source": [
    "directories = [\"bricks\", \"leather\", \"mosaic\", \"wood\"]\n",
    "current_dir = pathlib.Path().resolve()\n",
    "\n",
    "textures_dir = current_dir / 'textures'\n",
    "samples_dir = current_dir / 'samples'\n",
    "props_vectors_path = current_dir / 'props_vectors.csv'\n",
    "\n",
    "sample_size = (128, 128)\n",
    "\n",
    "\n",
    "def create_sample_dir_for(texture_type, filename):\n",
    "    p = samples_dir / texture_type / filename\n",
    "    p.parent.mkdir(parents=True, exist_ok=True)\n",
    "    return p\n",
    "\n",
    "def samples_path_for(texture_type: str):\n",
    "    return samples_dir / texture_type\n",
    "\n",
    "def read_images_from(directory):\n",
    "    p = textures_dir / directory\n",
    "    for f in p.iterdir():\n",
    "        with Image.open(f) as img:\n",
    "            yield directory, img\n",
    "\n",
    "def split_image_into_samples(img: Image, width: int, height: int):\n",
    "    if img.mode == 'RGBA':\n",
    "        img = img.convert('RGB')\n",
    "\n",
    "    img_arr = np.asarray(img)\n",
    "    iw, ih, _ = img_arr.shape\n",
    "    samples = []\n",
    "\n",
    "    splitted_ax_0 = np.split(img_arr, np.arange(width, iw, width))\n",
    "    if iw % width != 0:\n",
    "        splitted_ax_0 = splitted_ax_0[:-1]\n",
    "\n",
    "    hindices = np.arange(height, ih, height)\n",
    "    for a in splitted_ax_0:\n",
    "        splitted_ax_1 = np.split(a, hindices, axis=1)\n",
    "        if ih % height != 0:\n",
    "            splitted_ax_1 = splitted_ax_1[:-1]\n",
    "        samples.extend(map(Image.fromarray, splitted_ax_1))\n",
    "    return samples\n",
    "\n",
    "def read_grayscale_samples_from(sample_type_dir: pathlib.Path):\n",
    "    for filepath in sample_type_dir.iterdir():\n",
    "        yield imread(filepath, as_gray=True)"
   ]
  },
  {
   "cell_type": "markdown",
   "metadata": {},
   "source": [
    "**Wydzielanie oraz zapis sampli do pliku**"
   ]
  },
  {
   "cell_type": "code",
   "execution_count": 3,
   "metadata": {},
   "outputs": [],
   "source": [
    "for texture_type_dir in directories:\n",
    "    for texture_type, img in read_images_from(texture_type_dir):\n",
    "        sampled = split_image_into_samples(img, *sample_size)\n",
    "        for i, sample in enumerate(sampled):\n",
    "            sample.save(create_sample_dir_for(texture_type, f'sample{i}.jpg'))"
   ]
  },
  {
   "cell_type": "markdown",
   "metadata": {},
   "source": [
    "**Wczytywanie sampli & generowanie wektora do pliku csv**"
   ]
  },
  {
   "cell_type": "code",
   "execution_count": 4,
   "metadata": {},
   "outputs": [],
   "source": [
    "from skimage.feature import graycomatrix, graycoprops\n",
    "import itertools\n",
    "import csv\n",
    "\n",
    "features = (\"dissimilarity\", \"correlation\", \"contrast\", \"energy\", \"homogeneity\", \"ASM\")\n",
    "distances = (1, 3, 5)\n",
    "directions = (0, 45, 90, 135)\n",
    "\n",
    "with open(props_vectors_path, \"w\", newline=\"\") as csvfile:\n",
    "    csvwriter = csv.writer(csvfile)\n",
    "    csvwriter.writerow((\"texture_type\", \"distance\", \"direction\", *features))\n",
    "\n",
    "    for ttype in directories:\n",
    "        for sample in read_grayscale_samples_from(samples_path_for(ttype)):\n",
    "            imarr = (sample * (2**6 - 1)).astype(np.uint8)\n",
    "            P = graycomatrix(imarr, distances, np.radians(directions), levels=2**6)\n",
    "            features_array = np.hstack([graycoprops(P, prop).reshape(-1,1) for prop in features])\n",
    "            for i, (distance, direction) in enumerate(itertools.product(distances, directions)):\n",
    "                    csvwriter.writerow((ttype, distance, direction, *features_array[i, :]))"
   ]
  },
  {
   "cell_type": "code",
   "execution_count": 5,
   "metadata": {},
   "outputs": [],
   "source": [
    "import pandas as pd\n",
    "from sklearn.model_selection import train_test_split\n",
    "from sklearn import svm\n",
    "\n",
    "df = pd.read_csv(props_vectors_path)"
   ]
  },
  {
   "cell_type": "code",
   "execution_count": 7,
   "metadata": {},
   "outputs": [],
   "source": [
    "TEST_SIZE = 0.1\n",
    "\n",
    "train, test = train_test_split(df, test_size=TEST_SIZE)\n",
    "clf = svm.SVC()\n",
    "svc = clf.fit(train.loc[:, features], train[\"texture_type\"])"
   ]
  },
  {
   "cell_type": "code",
   "execution_count": 8,
   "metadata": {},
   "outputs": [
    {
     "name": "stdout",
     "output_type": "stream",
     "text": [
      "Accuracy: 0.9864 with set size of 20052 samples and 0.1 test ratio\n"
     ]
    }
   ],
   "source": [
    "result = clf.predict(test.loc[:, features])\n",
    "\n",
    "num_errors = (test[\"texture_type\"] != result).sum()\n",
    "error = num_errors / df.shape[0]\n",
    "print(\n",
    "    f\"Accuracy: {1-error:.4f} with set size of {df.shape[0]} samples and {TEST_SIZE} test ratio\"\n",
    ")"
   ]
  }
 ],
 "metadata": {
  "kernelspec": {
   "display_name": ".venv",
   "language": "python",
   "name": "python3"
  },
  "language_info": {
   "codemirror_mode": {
    "name": "ipython",
    "version": 3
   },
   "file_extension": ".py",
   "mimetype": "text/x-python",
   "name": "python",
   "nbconvert_exporter": "python",
   "pygments_lexer": "ipython3",
   "version": "3.10.11"
  }
 },
 "nbformat": 4,
 "nbformat_minor": 2
}
