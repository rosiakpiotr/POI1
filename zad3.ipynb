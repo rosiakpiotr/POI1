{
 "cells": [
  {
   "cell_type": "code",
   "execution_count": 1,
   "metadata": {},
   "outputs": [],
   "source": [
    "import numpy as np\n",
    "import pathlib\n",
    "from PIL import Image"
   ]
  },
  {
   "cell_type": "code",
   "execution_count": 2,
   "metadata": {},
   "outputs": [],
   "source": [
    "textures_dir = \"textures\"\n",
    "directories = [\"bricks\", \"leather\", \"mosaic\", \"wood\"]\n",
    "current_dir = pathlib.Path().resolve()"
   ]
  },
  {
   "cell_type": "code",
   "execution_count": 3,
   "metadata": {},
   "outputs": [],
   "source": [
    "def create_sample_dir_for(texture_type, filename):\n",
    "    p = current_dir / 'samples' / texture_type / filename\n",
    "    p.parent.mkdir(parents=True, exist_ok=True)\n",
    "    return p\n",
    "\n",
    "\n",
    "def read_image():\n",
    "    for dir in directories:\n",
    "        p = current_dir / textures_dir / dir\n",
    "        for f in p.iterdir():\n",
    "            yield dir, Image.open(f)"
   ]
  },
  {
   "cell_type": "code",
   "execution_count": 4,
   "metadata": {},
   "outputs": [],
   "source": [
    "def split_image_into_samples(img: Image, width: int, height: int):\n",
    "    if img.mode == 'RGBA':\n",
    "        img = img.convert('RGB')\n",
    "\n",
    "    img_arr = np.array(img)\n",
    "    iw, ih, _ = img_arr.shape\n",
    "    samples = []\n",
    "\n",
    "    splitted_ax_0 = np.split(img_arr, np.arange(width, iw, width))\n",
    "    if iw % width != 0:\n",
    "        splitted_ax_0 = splitted_ax_0[:-1]\n",
    "\n",
    "    hindices = np.arange(height, ih, height)\n",
    "    for a in splitted_ax_0:\n",
    "        splitted_ax_1 = np.split(a, hindices, axis=1)\n",
    "        if ih % height != 0:\n",
    "            splitted_ax_1 = splitted_ax_1[:-1]\n",
    "        samples.extend(map(Image.fromarray, splitted_ax_1))\n",
    "    return samples"
   ]
  },
  {
   "cell_type": "code",
   "execution_count": 5,
   "metadata": {},
   "outputs": [],
   "source": [
    "for texture_type, img in read_image():\n",
    "    sample_size = (128, 128)\n",
    "    sampled = split_image_into_samples(img, *sample_size)\n",
    "    for i, sample in enumerate(sampled):\n",
    "        sample.save(create_sample_dir_for(texture_type, f'sample{i}.jpg'))"
   ]
  }
 ],
 "metadata": {
  "kernelspec": {
   "display_name": ".venv",
   "language": "python",
   "name": "python3"
  },
  "language_info": {
   "codemirror_mode": {
    "name": "ipython",
    "version": 3
   },
   "file_extension": ".py",
   "mimetype": "text/x-python",
   "name": "python",
   "nbconvert_exporter": "python",
   "pygments_lexer": "ipython3",
   "version": "3.10.11"
  }
 },
 "nbformat": 4,
 "nbformat_minor": 2
}
